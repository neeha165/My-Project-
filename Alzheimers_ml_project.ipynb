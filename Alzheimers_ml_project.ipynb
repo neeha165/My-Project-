{
  "nbformat": 4,
  "nbformat_minor": 0,
  "metadata": {
    "colab": {
      "provenance": []
    },
    "kernelspec": {
      "name": "python3",
      "display_name": "Python 3"
    },
    "language_info": {
      "name": "python"
    }
  },
  "cells": [
    {
      "cell_type": "code",
      "source": [
        "import pandas as pd\n",
        "from sklearn.model_selection import train_test_split\n",
        "from sklearn.preprocessing import StandardScaler\n",
        "from sklearn.impute import SimpleImputer\n",
        "\n",
        "# Load the cross-sectional dataset\n",
        "data_cross = pd.read_csv('oasis_cross-sectional.csv')\n",
        "\n",
        "# Handling missing values\n",
        "imputer = SimpleImputer(strategy='mean')\n",
        "data_cross.fillna(data_cross.mean(), inplace=True)\n",
        "\n",
        "# Splitting features and target\n",
        "X_cross = data_cross.drop(['ID', 'M/F', 'Diagnosis'], axis=1)\n",
        "y_cross = data_cross['Diagnosis']\n",
        "\n",
        "# Splitting data into train and test sets\n",
        "X_cross_train, X_cross_test, y_cross_train, y_cross_test = train_test_split(X_cross, y_cross, test_size=0.2, random_state=42)\n",
        "\n",
        "# Feature scaling\n",
        "scaler = StandardScaler()\n",
        "X_cross_train_scaled = scaler.fit_transform(X_cross_train)\n",
        "X_cross_test_scaled = scaler.transform(X_cross_test)\n"
      ],
      "metadata": {
        "id": "Dadxqrcuo3BU"
      },
      "execution_count": null,
      "outputs": []
    },
    {
      "cell_type": "code",
      "source": [
        "from sklearn.ensemble import RandomForestClassifier\n",
        "from sklearn.model_selection import RandomizedSearchCV\n",
        "from sklearn.model_selection import train_test_split\n",
        "from sklearn.metrics import accuracy_score\n",
        "\n",
        "# Assuming you have features (X) and labels (y) prepared\n",
        "\n",
        "# Split the data into training and testing sets\n",
        "X_train, X_test, y_train, y_test = train_test_split(X, y, test_size=0.2, random_state=42)\n",
        "\n",
        "# Define the Random Forest model\n",
        "rf_model = RandomForestClassifier()\n",
        "\n",
        "# Define the hyperparameter grid for tuning\n",
        "param_grid = {\n",
        "    'n_estimators': [50, 100, 200],\n",
        "    'max_depth': [None, 10, 20, 30],\n",
        "    'min_samples_split': [2, 5, 10],\n",
        "    'min_samples_leaf': [1, 2, 4]\n",
        "}\n",
        "\n",
        "# Create the RandomizedSearchCV object\n",
        "random_search = RandomizedSearchCV(rf_model, param_distributions=param_grid, n_iter=10, cv=5, verbose=2, n_jobs=-1, random_state=42)\n",
        "\n",
        "# Fit the model to the data\n",
        "random_search.fit(X_train, y_train)\n",
        "\n",
        "# Get the best parameters and the best model\n",
        "best_params = random_search.best_params_\n",
        "best_model = random_search.best_estimator_\n",
        "\n",
        "# Make predictions on the test set\n",
        "y_pred = best_model.predict(X_test)\n",
        "\n",
        "# Evaluate the model\n",
        "accuracy = accuracy_score(y_test, y_pred)\n",
        "print(f\"Best Parameters: {best_params}\")\n",
        "print(f\"Accuracy on Test Set: {accuracy}\")\n"
      ],
      "metadata": {
        "id": "b38tcn-co5RT"
      },
      "execution_count": null,
      "outputs": []
    }
  ]
}